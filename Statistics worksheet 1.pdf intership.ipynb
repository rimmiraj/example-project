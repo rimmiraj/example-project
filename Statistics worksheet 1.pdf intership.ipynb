{
 "cells": [
  {
   "cell_type": "markdown",
   "id": "07b1a42d",
   "metadata": {},
   "source": [
    "ques-1"
   ]
  },
  {
   "cell_type": "code",
   "execution_count": null,
   "id": "21bdbd7b",
   "metadata": {},
   "outputs": [],
   "source": [
    "ans - true"
   ]
  },
  {
   "cell_type": "markdown",
   "id": "cad55e14",
   "metadata": {},
   "source": [
    "ques-2"
   ]
  },
  {
   "cell_type": "code",
   "execution_count": null,
   "id": "3f9d769e",
   "metadata": {},
   "outputs": [],
   "source": [
    "a) Central Limit Theorem\n"
   ]
  },
  {
   "cell_type": "markdown",
   "id": "2514eee6",
   "metadata": {},
   "source": [
    "ques-3"
   ]
  },
  {
   "cell_type": "code",
   "execution_count": null,
   "id": "17e103ef",
   "metadata": {},
   "outputs": [],
   "source": [
    "b) Modeling bounded count data"
   ]
  },
  {
   "cell_type": "markdown",
   "id": "38c868be",
   "metadata": {},
   "source": [
    "ques-4"
   ]
  },
  {
   "cell_type": "code",
   "execution_count": null,
   "id": "a30a63d0",
   "metadata": {},
   "outputs": [],
   "source": [
    "a) The exponent of a normally distributed random variables follows what is called the log- normal\n",
    "distribution"
   ]
  },
  {
   "cell_type": "markdown",
   "id": "5e36789e",
   "metadata": {},
   "source": [
    "ques-5"
   ]
  },
  {
   "cell_type": "code",
   "execution_count": null,
   "id": "3c3d261a",
   "metadata": {},
   "outputs": [],
   "source": [
    "c) Poisson"
   ]
  },
  {
   "cell_type": "markdown",
   "id": "5d9f663c",
   "metadata": {},
   "source": [
    "ques-6"
   ]
  },
  {
   "cell_type": "code",
   "execution_count": null,
   "id": "4d885672",
   "metadata": {},
   "outputs": [],
   "source": []
  },
  {
   "cell_type": "markdown",
   "id": "1bacb8c5",
   "metadata": {},
   "source": [
    "ques-7"
   ]
  },
  {
   "cell_type": "code",
   "execution_count": null,
   "id": "4a641211",
   "metadata": {},
   "outputs": [],
   "source": [
    "b) Hypothesis"
   ]
  },
  {
   "cell_type": "markdown",
   "id": "4301da73",
   "metadata": {},
   "source": [
    "ques-8"
   ]
  },
  {
   "cell_type": "code",
   "execution_count": null,
   "id": "967a8750",
   "metadata": {},
   "outputs": [],
   "source": [
    "a) 0"
   ]
  },
  {
   "cell_type": "markdown",
   "id": "a8c2327e",
   "metadata": {},
   "source": [
    "ques-9"
   ]
  },
  {
   "cell_type": "code",
   "execution_count": null,
   "id": "8674ed06",
   "metadata": {},
   "outputs": [],
   "source": [
    "c) Outliers cannot conform to the regression relationship"
   ]
  },
  {
   "cell_type": "markdown",
   "id": "3258c8a0",
   "metadata": {},
   "source": [
    "Q10and Q15 are subjective answer type questions, Answer them in your own words briefly"
   ]
  },
  {
   "cell_type": "markdown",
   "id": "088a3a7c",
   "metadata": {},
   "source": [
    "ques-10"
   ]
  },
  {
   "cell_type": "code",
   "execution_count": null,
   "id": "dfd63786",
   "metadata": {},
   "outputs": [],
   "source": [
    "a probability distribution that is symmetric about the mean,\n",
    "showing that data near the mean are more frequent in occurrence than data far from the mean"
   ]
  },
  {
   "cell_type": "markdown",
   "id": "b908fcc8",
   "metadata": {},
   "source": [
    "ques-11"
   ]
  },
  {
   "cell_type": "code",
   "execution_count": null,
   "id": "2fbb2fbb",
   "metadata": {},
   "outputs": [],
   "source": [
    "Missing data appear when no value is available in one or more variables of an individual.\n",
    "Deletions. Pairwise Deletion. Listwise Deletion/ Dropping rows. Dropping complete columns.\n",
    "Basic Imputation Techniques. Imputation with a constant value. Imputation using the statistics (mean, median, mode)\n",
    "K-Nearest Neighbor Imputation."
   ]
  },
  {
   "cell_type": "markdown",
   "id": "7846e760",
   "metadata": {},
   "source": [
    "ques-12"
   ]
  },
  {
   "cell_type": "code",
   "execution_count": null,
   "id": "a425571a",
   "metadata": {},
   "outputs": [],
   "source": [
    "A/B testing (also known as split testing or bucket testing) is a method of comparing two versions of a webpage or\n",
    "app against each other to determine which one performs better."
   ]
  },
  {
   "cell_type": "markdown",
   "id": "c3f9f1ad",
   "metadata": {},
   "source": [
    "ques-13"
   ]
  },
  {
   "cell_type": "code",
   "execution_count": null,
   "id": "3740049d",
   "metadata": {},
   "outputs": [],
   "source": [
    " Mean imputation does not preserve the relationships among variables"
   ]
  },
  {
   "cell_type": "markdown",
   "id": "04c95c87",
   "metadata": {},
   "source": [
    "ques-14"
   ]
  },
  {
   "cell_type": "code",
   "execution_count": null,
   "id": "3439ae4a",
   "metadata": {},
   "outputs": [],
   "source": [
    " Linear regression analysis is used to predict the value of a variable based on the value of another variable. "
   ]
  },
  {
   "cell_type": "markdown",
   "id": "1e7c0118",
   "metadata": {},
   "source": [
    "ques-15"
   ]
  },
  {
   "cell_type": "code",
   "execution_count": null,
   "id": "dc383f0b",
   "metadata": {},
   "outputs": [],
   "source": []
  }
 ],
 "metadata": {
  "kernelspec": {
   "display_name": "Python 3 (ipykernel)",
   "language": "python",
   "name": "python3"
  },
  "language_info": {
   "codemirror_mode": {
    "name": "ipython",
    "version": 3
   },
   "file_extension": ".py",
   "mimetype": "text/x-python",
   "name": "python",
   "nbconvert_exporter": "python",
   "pygments_lexer": "ipython3",
   "version": "3.9.7"
  }
 },
 "nbformat": 4,
 "nbformat_minor": 5
}
