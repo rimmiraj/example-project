{
 "cells": [
  {
   "cell_type": "markdown",
   "id": "aa1dbd71",
   "metadata": {},
   "source": [
    "In Q1 to Q11, only one option is correct, choose the correct option: "
   ]
  },
  {
   "cell_type": "code",
   "execution_count": null,
   "id": "f953fab7",
   "metadata": {},
   "outputs": [],
   "source": [
    "A) Least Square Error"
   ]
  },
  {
   "cell_type": "code",
   "execution_count": null,
   "id": "c85095df",
   "metadata": {},
   "outputs": [],
   "source": [
    "A) Linear regression is sensitive to outliers"
   ]
  },
  {
   "cell_type": "code",
   "execution_count": null,
   "id": "f0bc06e0",
   "metadata": {},
   "outputs": [],
   "source": [
    "B) Negative"
   ]
  },
  {
   "cell_type": "code",
   "execution_count": null,
   "id": "94a222bd",
   "metadata": {},
   "outputs": [],
   "source": [
    "B) Correlation "
   ]
  },
  {
   "cell_type": "code",
   "execution_count": null,
   "id": "d6abaab0",
   "metadata": {},
   "outputs": [],
   "source": [
    "C) Low bias and high variance "
   ]
  },
  {
   "cell_type": "code",
   "execution_count": null,
   "id": "e861cbc1",
   "metadata": {},
   "outputs": [],
   "source": [
    "B) Predictive modal "
   ]
  },
  {
   "cell_type": "code",
   "execution_count": null,
   "id": "c7c40e6b",
   "metadata": {},
   "outputs": [],
   "source": [
    "A) Cross validation "
   ]
  },
  {
   "cell_type": "code",
   "execution_count": null,
   "id": "0d3a4c26",
   "metadata": {},
   "outputs": [],
   "source": [
    "D) SMOTE \n"
   ]
  },
  {
   "cell_type": "code",
   "execution_count": null,
   "id": "63193fb3",
   "metadata": {},
   "outputs": [],
   "source": [
    "C) Sensitivity and Specificity \n"
   ]
  },
  {
   "cell_type": "code",
   "execution_count": null,
   "id": "f84d4bc7",
   "metadata": {},
   "outputs": [],
   "source": [
    "B) False "
   ]
  },
  {
   "cell_type": "code",
   "execution_count": null,
   "id": "e6066aee",
   "metadata": {},
   "outputs": [],
   "source": [
    "B) Apply PCA to project high dimensional data "
   ]
  },
  {
   "cell_type": "code",
   "execution_count": null,
   "id": "a5918185",
   "metadata": {},
   "outputs": [],
   "source": [
    "B) It becomes slow when number of features is very large.\n",
    "C) We need to iterate"
   ]
  },
  {
   "cell_type": "markdown",
   "id": "5af34371",
   "metadata": {},
   "source": [
    "Q13 and Q15 are subjective answer type questions, Answer them briefly. "
   ]
  },
  {
   "cell_type": "code",
   "execution_count": null,
   "id": "627a97d2",
   "metadata": {},
   "outputs": [],
   "source": [
    "Regularization is a technique used to reduce the errors by fitting the function appropriately \n",
    "on the given training set and avoid overfitting."
   ]
  },
  {
   "cell_type": "markdown",
   "id": "3320e528",
   "metadata": {},
   "source": [
    "ques-14"
   ]
  },
  {
   "cell_type": "code",
   "execution_count": null,
   "id": "5e7acc5f",
   "metadata": {},
   "outputs": [],
   "source": [
    "Ridge Regression.\n",
    "LASSO (Least Absolute Shrinkage and Selection Operator) Regression.\n",
    "Elastic-Net Regression"
   ]
  },
  {
   "cell_type": "markdown",
   "id": "824ea19f",
   "metadata": {},
   "source": [
    "ques-15"
   ]
  },
  {
   "cell_type": "code",
   "execution_count": null,
   "id": "b1fb6c0e",
   "metadata": {},
   "outputs": [],
   "source": []
  }
 ],
 "metadata": {
  "kernelspec": {
   "display_name": "Python 3 (ipykernel)",
   "language": "python",
   "name": "python3"
  },
  "language_info": {
   "codemirror_mode": {
    "name": "ipython",
    "version": 3
   },
   "file_extension": ".py",
   "mimetype": "text/x-python",
   "name": "python",
   "nbconvert_exporter": "python",
   "pygments_lexer": "ipython3",
   "version": "3.9.7"
  }
 },
 "nbformat": 4,
 "nbformat_minor": 5
}
