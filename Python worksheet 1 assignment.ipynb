{
 "cells": [
  {
   "cell_type": "code",
   "execution_count": 1,
   "id": "af3555f0",
   "metadata": {},
   "outputs": [],
   "source": [
    "#Which of the following operators is used to calculate remainder in a division?"
   ]
  },
  {
   "cell_type": "code",
   "execution_count": 3,
   "id": "e0593805",
   "metadata": {},
   "outputs": [
    {
     "name": "stdout",
     "output_type": "stream",
     "text": [
      "Remainder is: 1\n"
     ]
    }
   ],
   "source": [
    "x = 5\n",
    "y = 2\n",
    "r = x % y\n",
    "print ('Remainder is:', r)"
   ]
  },
  {
   "cell_type": "code",
   "execution_count": 5,
   "id": "577e789e",
   "metadata": {},
   "outputs": [
    {
     "name": "stdout",
     "output_type": "stream",
     "text": [
      "Dividend is: 6\n",
      "Divisor is: 4\n",
      "Remainder :  2\n"
     ]
    }
   ],
   "source": [
    "import numpy as np\n",
    "n1 = 6\n",
    "n2 = 4\n",
    "r = np.remainder(n1, n2)\n",
    "print (\"Dividend is:\", n1)\n",
    "print (\"Divisor is:\", n2)\n",
    "print (\"Remainder : \", r)\n"
   ]
  },
  {
   "cell_type": "markdown",
   "id": "e7a6d885",
   "metadata": {},
   "source": [
    "ques-2"
   ]
  },
  {
   "cell_type": "code",
   "execution_count": 6,
   "id": "d7334524",
   "metadata": {},
   "outputs": [],
   "source": [
    "#In python 2//3 is equal to?"
   ]
  },
  {
   "cell_type": "code",
   "execution_count": 7,
   "id": "e78ba2d5",
   "metadata": {},
   "outputs": [
    {
     "data": {
      "text/plain": [
       "0"
      ]
     },
     "execution_count": 7,
     "metadata": {},
     "output_type": "execute_result"
    }
   ],
   "source": [
    "2//3"
   ]
  },
  {
   "cell_type": "markdown",
   "id": "889342f0",
   "metadata": {},
   "source": [
    "ques-3"
   ]
  },
  {
   "cell_type": "code",
   "execution_count": null,
   "id": "709ec87e",
   "metadata": {},
   "outputs": [],
   "source": [
    "#In python, 6<<2 is equal to?"
   ]
  },
  {
   "cell_type": "code",
   "execution_count": 8,
   "id": "03745aeb",
   "metadata": {},
   "outputs": [
    {
     "data": {
      "text/plain": [
       "24"
      ]
     },
     "execution_count": 8,
     "metadata": {},
     "output_type": "execute_result"
    }
   ],
   "source": [
    "6<<2"
   ]
  },
  {
   "cell_type": "markdown",
   "id": "352d5ce2",
   "metadata": {},
   "source": [
    "ques-4"
   ]
  },
  {
   "cell_type": "code",
   "execution_count": null,
   "id": "73c08f55",
   "metadata": {},
   "outputs": [],
   "source": [
    "#In python, 6&2 will give which of the following as output?"
   ]
  },
  {
   "cell_type": "code",
   "execution_count": 9,
   "id": "b16eb35c",
   "metadata": {},
   "outputs": [
    {
     "data": {
      "text/plain": [
       "2"
      ]
     },
     "execution_count": 9,
     "metadata": {},
     "output_type": "execute_result"
    }
   ],
   "source": [
    "6&2"
   ]
  },
  {
   "cell_type": "markdown",
   "id": "a204f364",
   "metadata": {},
   "source": [
    "ques-5"
   ]
  },
  {
   "cell_type": "code",
   "execution_count": null,
   "id": "0053f2e2",
   "metadata": {},
   "outputs": [],
   "source": [
    "#In python, 6|2 will give which of the following as output?\n"
   ]
  },
  {
   "cell_type": "code",
   "execution_count": null,
   "id": "3914d137",
   "metadata": {},
   "outputs": [],
   "source": [
    "Explanation:\n",
    "\n",
    "because 6 is greater value and cannot divide 2.\n",
    "\n",
    "Therefore 2 as it."
   ]
  },
  {
   "cell_type": "markdown",
   "id": "e74c465f",
   "metadata": {},
   "source": [
    "ques-6"
   ]
  },
  {
   "cell_type": "code",
   "execution_count": null,
   "id": "5e730f4c",
   "metadata": {},
   "outputs": [],
   "source": [
    "#What does the finally keyword denotes in python?\n"
   ]
  },
  {
   "cell_type": "code",
   "execution_count": null,
   "id": "f40264af",
   "metadata": {},
   "outputs": [],
   "source": [
    "C) the finally block will be executed no matter if the try block raises an error or not."
   ]
  },
  {
   "cell_type": "markdown",
   "id": "0bec6f87",
   "metadata": {},
   "source": [
    "ques-7"
   ]
  },
  {
   "cell_type": "code",
   "execution_count": null,
   "id": "bd84854a",
   "metadata": {},
   "outputs": [],
   "source": [
    "#What does raise keyword is used for in python?"
   ]
  },
  {
   "cell_type": "code",
   "execution_count": 12,
   "id": "11078f97",
   "metadata": {},
   "outputs": [
    {
     "ename": "TypeError",
     "evalue": "Only integers are allowed",
     "output_type": "error",
     "traceback": [
      "\u001b[1;31m---------------------------------------------------------------------------\u001b[0m",
      "\u001b[1;31mTypeError\u001b[0m                                 Traceback (most recent call last)",
      "\u001b[1;32m~\\AppData\\Local\\Temp/ipykernel_6660/1233933522.py\u001b[0m in \u001b[0;36m<module>\u001b[1;34m\u001b[0m\n\u001b[0;32m      2\u001b[0m \u001b[1;33m\u001b[0m\u001b[0m\n\u001b[0;32m      3\u001b[0m \u001b[1;32mif\u001b[0m \u001b[1;32mnot\u001b[0m \u001b[0mtype\u001b[0m\u001b[1;33m(\u001b[0m\u001b[0mx\u001b[0m\u001b[1;33m)\u001b[0m \u001b[1;32mis\u001b[0m \u001b[0mint\u001b[0m\u001b[1;33m:\u001b[0m\u001b[1;33m\u001b[0m\u001b[1;33m\u001b[0m\u001b[0m\n\u001b[1;32m----> 4\u001b[1;33m   \u001b[1;32mraise\u001b[0m \u001b[0mTypeError\u001b[0m\u001b[1;33m(\u001b[0m\u001b[1;34m\"Only integers are allowed\"\u001b[0m\u001b[1;33m)\u001b[0m\u001b[1;33m\u001b[0m\u001b[1;33m\u001b[0m\u001b[0m\n\u001b[0m",
      "\u001b[1;31mTypeError\u001b[0m: Only integers are allowed"
     ]
    }
   ],
   "source": [
    "x = \"hello\"\n",
    "\n",
    "if not type(x) is int:\n",
    "  raise TypeError(\"Only integers are allowed\")\n"
   ]
  },
  {
   "cell_type": "code",
   "execution_count": null,
   "id": "97c34649",
   "metadata": {},
   "outputs": [],
   "source": [
    "A) It is used to raise an exception."
   ]
  },
  {
   "cell_type": "markdown",
   "id": "e6beb9a8",
   "metadata": {},
   "source": [
    "ques-8"
   ]
  },
  {
   "cell_type": "code",
   "execution_count": null,
   "id": "8c154a3a",
   "metadata": {},
   "outputs": [],
   "source": [
    "#Which of the following is a common use case of yield keyword in python?"
   ]
  },
  {
   "cell_type": "code",
   "execution_count": null,
   "id": "56814777",
   "metadata": {},
   "outputs": [],
   "source": [
    "C) in defining a generator"
   ]
  },
  {
   "cell_type": "markdown",
   "id": "bf0d1458",
   "metadata": {},
   "source": [
    "ques-9"
   ]
  },
  {
   "cell_type": "code",
   "execution_count": null,
   "id": "b29cc62f",
   "metadata": {},
   "outputs": [],
   "source": [
    "Which of the following are the valid variable names?\n",
    "A) _abc B) 1abc\n",
    "C) abc2 D) None of the above\n"
   ]
  },
  {
   "cell_type": "code",
   "execution_count": 13,
   "id": "b25d38d1",
   "metadata": {},
   "outputs": [
    {
     "data": {
      "text/plain": [
       "10"
      ]
     },
     "execution_count": 13,
     "metadata": {},
     "output_type": "execute_result"
    }
   ],
   "source": [
    "_abc = 10\n",
    "_abc"
   ]
  },
  {
   "cell_type": "code",
   "execution_count": 14,
   "id": "94a3268e",
   "metadata": {},
   "outputs": [
    {
     "data": {
      "text/plain": [
       "10"
      ]
     },
     "execution_count": 14,
     "metadata": {},
     "output_type": "execute_result"
    }
   ],
   "source": [
    "abc = 10\n",
    "abc"
   ]
  },
  {
   "cell_type": "code",
   "execution_count": 15,
   "id": "3cf03c0e",
   "metadata": {},
   "outputs": [
    {
     "data": {
      "text/plain": [
       "10"
      ]
     },
     "execution_count": 15,
     "metadata": {},
     "output_type": "execute_result"
    }
   ],
   "source": [
    "abc2 = 10\n",
    "abc2"
   ]
  },
  {
   "cell_type": "markdown",
   "id": "3e8b2a12",
   "metadata": {},
   "source": [
    "ques-10"
   ]
  },
  {
   "cell_type": "code",
   "execution_count": null,
   "id": "f12e6365",
   "metadata": {},
   "outputs": [],
   "source": [
    "10. Which of the following are the keywords in python?\n",
    "A) yield B) raise\n",
    "C) look-in D) all of the above"
   ]
  },
  {
   "cell_type": "code",
   "execution_count": null,
   "id": "9e2d598a",
   "metadata": {},
   "outputs": [],
   "source": [
    "ans-A) yield B) raise\n"
   ]
  },
  {
   "cell_type": "markdown",
   "id": "20e01103",
   "metadata": {},
   "source": [
    "Q11toQ15 are programming ques"
   ]
  },
  {
   "cell_type": "code",
   "execution_count": null,
   "id": "8c0a8cc0",
   "metadata": {},
   "outputs": [],
   "source": [
    "11. Write a python program to find the factorial of a number"
   ]
  },
  {
   "cell_type": "code",
   "execution_count": 16,
   "id": "37e0deb7",
   "metadata": {},
   "outputs": [
    {
     "name": "stdout",
     "output_type": "stream",
     "text": [
      "Enter a number: 5\n",
      "The factorial of 5 is 120\n"
     ]
    }
   ],
   "source": [
    "num = int(input(\"Enter a number: \"))    \n",
    "factorial = 1    \n",
    "if num < 0:    \n",
    "   print(\" Factorial does not exist for negative numbers\")    \n",
    "elif num == 0:    \n",
    "   print(\"The factorial of 0 is 1\")    \n",
    "else:    \n",
    "   for i in range(1,num + 1):    \n",
    "       factorial = factorial*i    \n",
    "   print(\"The factorial of\",num,\"is\",factorial)  "
   ]
  },
  {
   "cell_type": "code",
   "execution_count": null,
   "id": "e8c2db72",
   "metadata": {},
   "outputs": [],
   "source": [
    "12. Write a python program to find whether a number is prime or composite."
   ]
  },
  {
   "cell_type": "code",
   "execution_count": 18,
   "id": "12d153b5",
   "metadata": {},
   "outputs": [
    {
     "name": "stdout",
     "output_type": "stream",
     "text": [
      "Enter any number:4\n",
      "4 is not prime but composite number\n"
     ]
    }
   ],
   "source": [
    "n= int(input(\"Enter any number:\"))\n",
    "if(n ==0 or n == 1):\n",
    "    printf(n,\"Number is neither prime nor composite\")\n",
    "elif n>1 :\n",
    "    for i in range(2,n):\n",
    "        if(n%i == 0):\n",
    "            print(n,\"is not prime but composite number\")\n",
    "            break\n",
    "    else:\n",
    "        print(n,\"number is prime but not composite number\")\n",
    "else :\n",
    "    print(\"Please enter positive number only \")"
   ]
  },
  {
   "cell_type": "code",
   "execution_count": 19,
   "id": "581ec4d8",
   "metadata": {},
   "outputs": [
    {
     "name": "stdout",
     "output_type": "stream",
     "text": [
      "Enter any number:5\n",
      "5 number is prime but not composite number\n"
     ]
    }
   ],
   "source": [
    "n= int(input(\"Enter any number:\"))\n",
    "if(n ==0 or n == 1):\n",
    "    printf(n,\"Number is neither prime nor composite\")\n",
    "elif n>1 :\n",
    "    for i in range(2,n):\n",
    "        if(n%i == 0):\n",
    "            print(n,\"is not prime but composite number\")\n",
    "            break\n",
    "    else:\n",
    "        print(n,\"number is prime but not composite number\")\n",
    "else :\n",
    "    print(\"Please enter positive number only \")"
   ]
  },
  {
   "cell_type": "code",
   "execution_count": null,
   "id": "e88dd570",
   "metadata": {},
   "outputs": [],
   "source": [
    "13. Write a python program to check whether a given string is palindrome or not."
   ]
  },
  {
   "cell_type": "code",
   "execution_count": 20,
   "id": "4a30e630",
   "metadata": {},
   "outputs": [
    {
     "name": "stdout",
     "output_type": "stream",
     "text": [
      "Yes\n"
     ]
    }
   ],
   "source": [
    "def isPalindrome(s):\n",
    "    return s == s[::-1]\n",
    " \n",
    " \n",
    "\n",
    "s = \"malayalam\"\n",
    "ans = isPalindrome(s)\n",
    " \n",
    "if ans:\n",
    "    print(\"Yes\")\n",
    "else:\n",
    "    print(\"No\")"
   ]
  },
  {
   "cell_type": "code",
   "execution_count": 21,
   "id": "d6f92c3f",
   "metadata": {},
   "outputs": [
    {
     "name": "stdout",
     "output_type": "stream",
     "text": [
      "Please enter your own Text : madam\n",
      "Reverse Order :   madam\n",
      "This is a Palindrome String\n"
     ]
    }
   ],
   "source": [
    "string = input(\"Please enter your own Text : \")\n",
    "str1 = \"\"\n",
    "\n",
    "for i in string:\n",
    "    str1 = i + str1  \n",
    "print(\"Reverse Order :  \", str1)\n",
    "\n",
    "if(string == str1):\n",
    "   print(\"This is a Palindrome String\")\n",
    "else:\n",
    "   print(\"This is Not\")\n"
   ]
  },
  {
   "cell_type": "code",
   "execution_count": null,
   "id": "f34b3535",
   "metadata": {},
   "outputs": [],
   "source": [
    "14. Write a Python program to get the third side of right-angled triangle from two given sides."
   ]
  },
  {
   "cell_type": "code",
   "execution_count": 22,
   "id": "07c23de5",
   "metadata": {},
   "outputs": [
    {
     "name": "stdout",
     "output_type": "stream",
     "text": [
      "Hypotenuse = 5.0\n",
      "Adjacent = 4.0\n",
      "Opposite = 3.0\n",
      "You know the answer!\n"
     ]
    }
   ],
   "source": [
    "def pythagoras(opposite_side,adjacent_side,hypotenuse):\n",
    "        if opposite_side == str(\"x\"):\n",
    "            return (\"Opposite = \" + str(((hypotenuse**2) - (adjacent_side**2))**0.5))\n",
    "        elif adjacent_side == str(\"x\"):\n",
    "            return (\"Adjacent = \" + str(((hypotenuse**2) - (opposite_side**2))**0.5))\n",
    "        elif hypotenuse == str(\"x\"):\n",
    "            return (\"Hypotenuse = \" + str(((opposite_side**2) + (adjacent_side**2))**0.5))\n",
    "        else:\n",
    "            return \"You know the answer!\"\n",
    "    \n",
    "print(pythagoras(3,4,'x'))\n",
    "print(pythagoras(3,'x',5))\n",
    "print(pythagoras('x',4,5))\n",
    "print(pythagoras(3,4,5))"
   ]
  },
  {
   "cell_type": "code",
   "execution_count": null,
   "id": "a28014fd",
   "metadata": {},
   "outputs": [],
   "source": [
    "15. Write a python program to print the frequency of each of the characters present in a given string."
   ]
  },
  {
   "cell_type": "code",
   "execution_count": 23,
   "id": "112a80c7",
   "metadata": {},
   "outputs": [
    {
     "name": "stdout",
     "output_type": "stream",
     "text": [
      "Count of all characters in G arunkumar is :\n",
      " {'a': 2, 'r': 2, 'u': 2, 'n': 1, 'k': 1, 'm': 1}\n"
     ]
    }
   ],
   "source": [
    "test_str = \"arunkumar\"\n",
    "  \n",
    " \n",
    "all_freq = {}\n",
    "  \n",
    "for i in test_str:\n",
    "    if i in all_freq:\n",
    "        all_freq[i] += 1\n",
    "    else:\n",
    "        all_freq[i] = 1\n",
    "  \n",
    "# printing result \n",
    "print (\"Count of all characters in G arunkumar is :\\n \"\n",
    "                                        +  str(all_freq))"
   ]
  },
  {
   "cell_type": "code",
   "execution_count": null,
   "id": "a73976e3",
   "metadata": {},
   "outputs": [],
   "source": []
  }
 ],
 "metadata": {
  "kernelspec": {
   "display_name": "Python 3 (ipykernel)",
   "language": "python",
   "name": "python3"
  },
  "language_info": {
   "codemirror_mode": {
    "name": "ipython",
    "version": 3
   },
   "file_extension": ".py",
   "mimetype": "text/x-python",
   "name": "python",
   "nbconvert_exporter": "python",
   "pygments_lexer": "ipython3",
   "version": "3.9.7"
  }
 },
 "nbformat": 4,
 "nbformat_minor": 5
}
